{
 "cells": [
  {
   "cell_type": "markdown",
   "metadata": {},
   "source": [
    "## Módulos"
   ]
  },
  {
   "cell_type": "code",
   "execution_count": 1,
   "metadata": {},
   "outputs": [],
   "source": [
    "import fecon236 as fe\n",
    "import pandas as pd\n",
    "import numpy as np                               \n",
    "import matplotlib.pyplot as plt"
   ]
  },
  {
   "cell_type": "code",
   "execution_count": 2,
   "metadata": {},
   "outputs": [
    {
     "data": {
      "text/plain": [
       "['__builtins__',\n",
       " '__cached__',\n",
       " '__doc__',\n",
       " '__file__',\n",
       " '__loader__',\n",
       " '__name__',\n",
       " '__package__',\n",
       " '__path__',\n",
       " '__spec__',\n",
       " '__version__',\n",
       " 'absolute_import',\n",
       " 'boltz',\n",
       " 'boots',\n",
       " 'boxplot',\n",
       " 'bs',\n",
       " 'cormatrix',\n",
       " 'correlate',\n",
       " 'cotr_get',\n",
       " 'cotr_position',\n",
       " 'cotr_position_bonds',\n",
       " 'cotr_position_equities',\n",
       " 'cotr_position_metals',\n",
       " 'cotr_position_usd',\n",
       " 'creditprof',\n",
       " 'd4bei',\n",
       " 'd4bills',\n",
       " 'd4bond10',\n",
       " 'd4brent',\n",
       " 'd4curve',\n",
       " 'd4defl',\n",
       " 'd4eurjpy',\n",
       " 'd4eurusd',\n",
       " 'd4ff',\n",
       " 'd4ff30',\n",
       " 'd4gas',\n",
       " 'd4libeur',\n",
       " 'd4libjpy',\n",
       " 'd4libusd',\n",
       " 'd4oil',\n",
       " 'd4spx',\n",
       " 'd4tips10',\n",
       " 'd4usdcny',\n",
       " 'd4usdjpy',\n",
       " 'd4vix',\n",
       " 'd4wti',\n",
       " 'd4xau',\n",
       " 'd4xauusd',\n",
       " 'd4zero10',\n",
       " 'd7xbtcount',\n",
       " 'd7xbtusd',\n",
       " 'daily',\n",
       " 'datetime',\n",
       " 'detrend',\n",
       " 'detrendnorm',\n",
       " 'detrendpc',\n",
       " 'df2a',\n",
       " 'dif',\n",
       " 'diflog',\n",
       " 'div',\n",
       " 'division',\n",
       " 'dl_forex',\n",
       " 'dl_long',\n",
       " 'dl_short',\n",
       " 'dlist',\n",
       " 'dst',\n",
       " 'econ',\n",
       " 'f4bond10',\n",
       " 'f4cad',\n",
       " 'f4chf',\n",
       " 'f4eur',\n",
       " 'f4fed',\n",
       " 'f4gbp',\n",
       " 'f4jpy',\n",
       " 'f4libor',\n",
       " 'f4spes',\n",
       " 'f4spx',\n",
       " 'f4wti',\n",
       " 'f4xag',\n",
       " 'f4xau',\n",
       " 'forefunds',\n",
       " 'foreinfl',\n",
       " 'foretrend',\n",
       " 'freqM2MS',\n",
       " 'fut_decode',\n",
       " 'fut_dict',\n",
       " 'futures',\n",
       " 'gemrat',\n",
       " 'georet',\n",
       " 'get',\n",
       " 'getdata_fred',\n",
       " 'getdeflator',\n",
       " 'getfred',\n",
       " 'getfut',\n",
       " 'gethomepx',\n",
       " 'getinflations',\n",
       " 'getm4eurusd',\n",
       " 'getm4infleu',\n",
       " 'getm4spx_1871_d',\n",
       " 'getm4spx_1871_e',\n",
       " 'getm4spx_1871_p',\n",
       " 'getqdl',\n",
       " 'getspx',\n",
       " 'getstock',\n",
       " 'gm2gem',\n",
       " 'gmix',\n",
       " 'group',\n",
       " 'groupcotr',\n",
       " 'head',\n",
       " 'holtqdl',\n",
       " 'host',\n",
       " 'hw',\n",
       " 'index_delta_secs',\n",
       " 'kurtfun',\n",
       " 'lagdf',\n",
       " 'learn',\n",
       " 'm4baseus',\n",
       " 'm4bei',\n",
       " 'm4bills',\n",
       " 'm4bond10',\n",
       " 'm4cpi',\n",
       " 'm4cpicore',\n",
       " 'm4debt',\n",
       " 'm4defl',\n",
       " 'm4defleu',\n",
       " 'm4emppop',\n",
       " 'm4eurjpy',\n",
       " 'm4eurusd',\n",
       " 'm4gdpeur',\n",
       " 'm4gdpus',\n",
       " 'm4gdpusr',\n",
       " 'm4homepx',\n",
       " 'm4housing',\n",
       " 'm4infl',\n",
       " 'm4inflbei',\n",
       " 'm4infleu',\n",
       " 'm4nfp',\n",
       " 'm4oil',\n",
       " 'm4pce',\n",
       " 'm4pcecore',\n",
       " 'm4pop',\n",
       " 'm4spx',\n",
       " 'm4spx_1871_d',\n",
       " 'm4spx_1871_e',\n",
       " 'm4spx_1871_p',\n",
       " 'm4spxrtb',\n",
       " 'm4tips10',\n",
       " 'm4unemp',\n",
       " 'm4unempeu',\n",
       " 'm4unempfr',\n",
       " 'm4usdjpy',\n",
       " 'm4usdrtb',\n",
       " 'm4wage',\n",
       " 'm4workers',\n",
       " 'm4xau',\n",
       " 'm4xaueur',\n",
       " 'm4xaujpy',\n",
       " 'm4xaurtb',\n",
       " 'm4xauusd',\n",
       " 'm4zero10',\n",
       " 'mad',\n",
       " 'madmen',\n",
       " 'makeURL',\n",
       " 'map',\n",
       " 'mat',\n",
       " 'math',\n",
       " 'median',\n",
       " 'ml',\n",
       " 'ml_econ',\n",
       " 'ml_infl',\n",
       " 'ml_long',\n",
       " 'ml_short',\n",
       " 'mlist',\n",
       " 'monthly',\n",
       " 'names',\n",
       " 'nona',\n",
       " 'normalize',\n",
       " 'np',\n",
       " 'oc',\n",
       " 'op',\n",
       " 'paste',\n",
       " 'pastear',\n",
       " 'pcent',\n",
       " 'pd',\n",
       " 'pddata',\n",
       " 'plot',\n",
       " 'plotfred',\n",
       " 'plotn',\n",
       " 'plotqdl',\n",
       " 'plots',\n",
       " 'print_function',\n",
       " 'prob',\n",
       " 'prtf',\n",
       " 'q4debt',\n",
       " 'q4gdpeu',\n",
       " 'q4gdpus',\n",
       " 'q4gdpusr',\n",
       " 'q4spx',\n",
       " 'qdlapi',\n",
       " 'ql_econ',\n",
       " 'ql_long',\n",
       " 'qlist',\n",
       " 'quarterly',\n",
       " 'rates',\n",
       " 'readfile',\n",
       " 'regress',\n",
       " 'regressTIME',\n",
       " 'regressformula',\n",
       " 'regresstime',\n",
       " 'regresstimeforecast',\n",
       " 'resample_main',\n",
       " 'retrace',\n",
       " 'retracedf',\n",
       " 'roundit',\n",
       " 's4spx',\n",
       " 'setQuandlToken',\n",
       " 'sim',\n",
       " 'smf',\n",
       " 'stat',\n",
       " 'stat2',\n",
       " 'stats',\n",
       " 'std',\n",
       " 'stock_all',\n",
       " 'stock_decode',\n",
       " 'stock_one',\n",
       " 'system',\n",
       " 'tail',\n",
       " 'tailvalue',\n",
       " 'toar',\n",
       " 'todf',\n",
       " 'tool',\n",
       " 'top',\n",
       " 'trend',\n",
       " 'trendforecast',\n",
       " 'tsa',\n",
       " 'urlopen',\n",
       " 'util',\n",
       " 'visual',\n",
       " 'w4cotr_bonds',\n",
       " 'w4cotr_equities',\n",
       " 'w4cotr_metals',\n",
       " 'w4cotr_usd',\n",
       " 'w4cotr_xau',\n",
       " 'writefile',\n",
       " 'zero10dur',\n",
       " 'zeroprice']"
      ]
     },
     "execution_count": 2,
     "metadata": {},
     "output_type": "execute_result"
    }
   ],
   "source": [
    "dir(fe)"
   ]
  },
  {
   "cell_type": "markdown",
   "metadata": {},
   "source": [
    "## Contexto del trabajo\n",
    "Problema de forecasting de la fed funds rate en base a la información contenida en las tasas Libor. Para esto, utiliza la diferencia entre las tasas forward LIBOR, partiendo del siguiente supuesto:\n",
    "\n",
    "$ (ffy - ff) \\approx (ff\\_1y\\_forward - ff30) \\approx (LIBOR\\_1y\\_forward - LIBOR\\_day0) $\n",
    "\n",
    "donde,  \n",
    "\n",
    "$ff30$: EMA de 30-períodos de la Fed Funds Rate\n",
    "\n",
    "Despejando $ffy$:\n",
    "\n",
    "$ff\\_1y\\_forward \\approx LIBOR\\_1y\\_forward - LIBOR\\_day0 + ff30$\n",
    "\n",
    "#### Marco conceptual:\n",
    "- Tasa LIBOR: Es una tasa de referencia que denota el promedio de tasas a la cual los bancos se prestan dinero a corto plazo entre sí. Se publica en 7 vencimientos (desde un día hasta 12 meses) y en 5 divisas diferentes (dólar estadounidense, euro, libra, yen japonés y franco suizo).\n",
    "- Tasa Fed Funds: Es la tasa de interés a la que los bancos comerciales prestan reservas entre sí sobre una base de la noche a la mañana. Está definida en dólares estadounidenses."
   ]
  },
  {
   "cell_type": "markdown",
   "metadata": {},
   "source": [
    "## Obtención de la data\n",
    "Necesitaremos tres sets de información:\n",
    "- Fed Funds Rate\n",
    "- Tasas LIBOR\n",
    "\n",
    "Utilizamos la función get() que está designada como una función get-type para utilizar los datos dentro del módulo. Devuelve un DataFrame de Pandas."
   ]
  },
  {
   "cell_type": "code",
   "execution_count": 3,
   "metadata": {},
   "outputs": [
    {
     "data": {
      "text/plain": [
       "pandas.core.frame.DataFrame"
      ]
     },
     "execution_count": 3,
     "metadata": {},
     "output_type": "execute_result"
    }
   ],
   "source": [
    "ffer = fe.get(fe.d4ff) # Daily Fed Funds, effective rate\n",
    "type(ffer)"
   ]
  },
  {
   "cell_type": "markdown",
   "metadata": {},
   "source": [
    "## Análisis exploratorio del DataFrame\n",
    "Lo primero a realizar cuando se está explorando la data es visualizarla a través de gráficos. Permiten detectar patrones y observaciones inusuales más fácilmente. El tipo de data determinará que tipo de gráfico es más apropiado."
   ]
  },
  {
   "cell_type": "code",
   "execution_count": 4,
   "metadata": {},
   "outputs": [
    {
     "name": "stderr",
     "output_type": "stream",
     "text": [
      "C:\\Users\\FRANCISCODIEGOJurado\\Anaconda3\\lib\\site-packages\\pandas\\plotting\\_matplotlib\\converter.py:103: FutureWarning: Using an implicitly registered datetime converter for a matplotlib plotting method. The converter was registered by pandas on import. Future versions of pandas will require you to explicitly register matplotlib converters.\n",
      "\n",
      "To register the converters:\n",
      "\t>>> from pandas.plotting import register_matplotlib_converters\n",
      "\t>>> register_matplotlib_converters()\n",
      "  warnings.warn(msg, FutureWarning)\n"
     ]
    },
    {
     "data": {
      "text/plain": [
       "[<matplotlib.lines.Line2D at 0x1d9f42cd188>]"
      ]
     },
     "execution_count": 4,
     "metadata": {},
     "output_type": "execute_result"
    },
    {
     "data": {
      "image/png": "[encoded data removed]",
      "text/plain": [
       "<Figure size 432x288 with 1 Axes>"
      ]
     },
     "metadata": {
      "needs_background": "light"
     },
     "output_type": "display_data"
    }
   ],
   "source": [
    "plt.plot(ffer)"
   ]
  },
  {
   "cell_type": "code",
   "execution_count": 5,
   "metadata": {},
   "outputs": [
    {
     "data": {
      "text/plain": [
       "<matplotlib.legend.Legend at 0x1d9f6901a88>"
      ]
     },
     "execution_count": 5,
     "metadata": {},
     "output_type": "execute_result"
    },
    {
     "data": {
      "image/png": "[encoded data removed]",
      "text/plain": [
       "<Figure size 432x288 with 1 Axes>"
      ]
     },
     "metadata": {
      "needs_background": "light"
     },
     "output_type": "display_data"
    }
   ],
   "source": [
    "rolling_mean = ffer.Y.rolling(window=10).mean()\n",
    "\n",
    "plt.plot(ffer.tail(365), label = 'Actual', color = 'blue')\n",
    "plt.plot(rolling_mean.tail(365), label = 'EMA', color = 'orange')\n",
    "plt.legend(loc='upper left')"
   ]
  },
  {
   "cell_type": "markdown",
   "metadata": {},
   "source": [
    "La media móvil exponencial se utiliza para suavizar la serie original. Tener en cuenta que cuántas más ventanas, más suave será.\n",
    "\n",
    "En general, puede observarse que la serie de tiempo tiene instancias de tendencias positivas y negativas, denotando alta volatilidad, y consecuentemente planteando la necesidad de transformar los datos para posteriormente poder utilizar distintas metodologías de predicción."
   ]
  },
  {
   "cell_type": "markdown",
   "metadata": {},
   "source": [
    "# Preprocesamiento\n",
    "## Valores faltantes\n",
    "Utilizamos el método `isnull()` para evaluar si hay valores faltantes. Una manera rápida de hacer esto es combinándolo con `.values.any()`, que devolverá un booleano: `True` (hay faltantes) o `False` (no los hay)."
   ]
  },
  {
   "cell_type": "code",
   "execution_count": 6,
   "metadata": {},
   "outputs": [
    {
     "name": "stdout",
     "output_type": "stream",
     "text": [
      "Booleano: False\n",
      "Sumatoria de faltantes: Y    0\n",
      "dtype: int64\n"
     ]
    }
   ],
   "source": [
    "print('Booleano:', ffer.isnull().values.any())\n",
    "print('Sumatoria de faltantes:', ffer.isnull().sum())"
   ]
  },
  {
   "cell_type": "markdown",
   "metadata": {},
   "source": [
    "## Continuación ..."
   ]
  },
  {
   "cell_type": "code",
   "execution_count": null,
   "metadata": {},
   "outputs": [],
   "source": []
  }
 ],
 "metadata": {
  "kernelspec": {
   "display_name": "Python 3",
   "language": "python",
   "name": "python3"
  },
  "language_info": {
   "codemirror_mode": {
    "name": "ipython",
    "version": 3
   },
   "file_extension": ".py",
   "mimetype": "text/x-python",
   "name": "python",
   "nbconvert_exporter": "python",
   "pygments_lexer": "ipython3",
   "version": "3.7.4"
  }
 },
 "nbformat": 4,
 "nbformat_minor": 2
}
